{
 "cells": [
  {
   "cell_type": "code",
   "execution_count": 1,
   "metadata": {},
   "outputs": [],
   "source": [
    "import matplotlib.pyplot as plt\n",
    "import pandas as pd\n",
    "import numpy as np\n",
    "import seaborn as sns"
   ]
  },
  {
   "cell_type": "code",
   "execution_count": 2,
   "metadata": {},
   "outputs": [],
   "source": [
    "#Importer les fichiers csv comme dataframes \n",
    "df_principals = pd.read_csv('title_principals_clean.csv', sep='\\t')\n",
    "df_title_akas = pd.read_csv('title_akas_clean.csv', sep='\\t')\n",
    "df_title_fr = pd.read_csv('title_akas_clean_fr.csv', sep='\\t')\n",
    "df_name_basics = pd.read_csv('name_basics_clean.csv', sep='\\t')\n",
    "df_crew = pd.read_csv('title_crew_clean.csv', sep='\\t')\n",
    "df_title_basics = pd.read_csv('title_basics_clean.csv', sep='\\t')\n",
    "df_ratings = pd.read_csv('title_ratings_clean.csv', sep='\\t')\n",
    "df_tmdb = pd.read_csv('tmdb_clean.csv', sep='\\t')\n",
    "df_french_films = pd.read_csv('data_recommandations_fr.csv', sep='\\t', lineterminator='\\n')"
   ]
  },
  {
   "cell_type": "code",
   "execution_count": 3,
   "metadata": {},
   "outputs": [],
   "source": [
    "#df_titres\n",
    "df_titres = df_title_basics.copy()"
   ]
  },
  {
   "cell_type": "code",
   "execution_count": 4,
   "metadata": {},
   "outputs": [],
   "source": [
    "#df_titres_1\n",
    "df_titres_1 = df_titres[['tconst', 'startYear', 'genres']]"
   ]
  },
  {
   "cell_type": "code",
   "execution_count": 5,
   "metadata": {},
   "outputs": [],
   "source": [
    "#df_titres_fr\n",
    "df_titres_fr = df_title_fr.copy()"
   ]
  },
  {
   "cell_type": "code",
   "execution_count": 6,
   "metadata": {},
   "outputs": [],
   "source": [
    "#df_titres_fr_1\n",
    "df_titres_fr_1 = df_titres_fr[['titleId', 'title']]"
   ]
  },
  {
   "cell_type": "code",
   "execution_count": 7,
   "metadata": {},
   "outputs": [],
   "source": [
    "#df_langues\n",
    "#df_langues = df_title_akas.copy()\n",
    "#df_langues.head()"
   ]
  },
  {
   "cell_type": "code",
   "execution_count": 7,
   "metadata": {},
   "outputs": [],
   "source": [
    "#df_acteurs\n",
    "df_acteurs = df_principals.copy()"
   ]
  },
  {
   "cell_type": "code",
   "execution_count": 8,
   "metadata": {},
   "outputs": [],
   "source": [
    "#df_acteurs_1\n",
    "df_acteurs_1 = df_acteurs[['tconst', 'nconst', 'category']]"
   ]
  },
  {
   "cell_type": "code",
   "execution_count": 9,
   "metadata": {},
   "outputs": [],
   "source": [
    "#df_realisateurs\n",
    "df_realisateurs = df_crew.copy()"
   ]
  },
  {
   "cell_type": "code",
   "execution_count": 10,
   "metadata": {},
   "outputs": [],
   "source": [
    "#df_equipes\n",
    "df_equipes = df_name_basics.copy()"
   ]
  },
  {
   "cell_type": "code",
   "execution_count": 11,
   "metadata": {},
   "outputs": [],
   "source": [
    "#df_equipes_1\n",
    "df_equipes_1 = df_equipes[['nconst', 'primaryName']]"
   ]
  },
  {
   "cell_type": "code",
   "execution_count": 12,
   "metadata": {},
   "outputs": [],
   "source": [
    "#df_realisateurs_1\n",
    "df_realisateurs_1 = pd.merge(df_acteurs_1[df_acteurs_1['category'] == 'director'], df_equipes_1, on='nconst')"
   ]
  },
  {
   "cell_type": "code",
   "execution_count": 13,
   "metadata": {},
   "outputs": [],
   "source": [
    "#df_acteurs_2\n",
    "df_acteurs_2 = pd.merge(df_acteurs_1, df_equipes_1, on='nconst')"
   ]
  },
  {
   "cell_type": "code",
   "execution_count": 14,
   "metadata": {},
   "outputs": [],
   "source": [
    "#df_notes\n",
    "df_notes = df_ratings.copy()"
   ]
  },
  {
   "cell_type": "code",
   "execution_count": 15,
   "metadata": {},
   "outputs": [],
   "source": [
    "#df_infos\n",
    "df_infos = df_tmdb.copy()"
   ]
  },
  {
   "cell_type": "code",
   "execution_count": 16,
   "metadata": {},
   "outputs": [],
   "source": [
    "#df_infos_1\n",
    "df_infos_1 = df_infos[['imdb_id', 'original_language', 'overview', 'poster_path']]"
   ]
  },
  {
   "cell_type": "code",
   "execution_count": 17,
   "metadata": {},
   "outputs": [],
   "source": [
    "#df_films_fr\n",
    "df_films_fr = df_french_films.copy()"
   ]
  },
  {
   "cell_type": "code",
   "execution_count": 18,
   "metadata": {},
   "outputs": [],
   "source": [
    "#Fusionner les différents dataframes \n",
    "df_merged_1 = pd.merge(df_titres_1, df_titres_fr_1, how=\"left\", left_on='tconst', right_on='titleId')"
   ]
  },
  {
   "cell_type": "code",
   "execution_count": 19,
   "metadata": {},
   "outputs": [],
   "source": [
    "df_merged_2 = pd.merge(df_merged_1, df_acteurs_2, how=\"left\", left_on='tconst', right_on='tconst')"
   ]
  },
  {
   "cell_type": "code",
   "execution_count": 20,
   "metadata": {},
   "outputs": [],
   "source": [
    "df_merged_3 = pd.merge(df_merged_2, df_realisateurs_1, how=\"left\", left_on='tconst', right_on='tconst')"
   ]
  },
  {
   "cell_type": "code",
   "execution_count": 21,
   "metadata": {},
   "outputs": [],
   "source": [
    "df_merged_4 = pd.merge(df_merged_3, df_notes, how=\"left\", left_on='tconst', right_on='tconst')"
   ]
  },
  {
   "cell_type": "code",
   "execution_count": 22,
   "metadata": {},
   "outputs": [],
   "source": [
    "df_merged_5 = pd.merge(df_merged_4, df_infos_1, how=\"left\", left_on='tconst', right_on='imdb_id')"
   ]
  },
  {
   "cell_type": "code",
   "execution_count": 23,
   "metadata": {},
   "outputs": [],
   "source": [
    "#Supprimer les colonnes en doublon\n",
    "df_merged_6 = df_merged_5.drop(['titleId', 'nconst_x', 'nconst_y', 'category_x', 'category_y', 'imdb_id'], axis=1)"
   ]
  },
  {
   "cell_type": "code",
   "execution_count": 24,
   "metadata": {},
   "outputs": [],
   "source": [
    "#Grouper les acteurs et realisateurs par film\n",
    "df_merged_7 = df_merged_6.groupby(['tconst', \n",
    "                                   'startYear', \n",
    "                                   'genres', \n",
    "                                   'title', \n",
    "                                   'averageRating', \n",
    "                                   'numVotes', \n",
    "                                   'original_language', \n",
    "                                   'overview', \n",
    "                                   'poster_path'])[['primaryName_x', 'primaryName_y']].agg(lambda x: ', '.join(x.astype(str))).reset_index()"
   ]
  },
  {
   "cell_type": "code",
   "execution_count": 25,
   "metadata": {},
   "outputs": [],
   "source": [
    "#Enlever les doublons dans les colonnes\n",
    "# Fonction pour supprimer les doublons d'une liste tout en préservant l'ordre\n",
    "def remove_duplicates_keep_order(lst):\n",
    "    seen = set()\n",
    "    return [x for x in lst if not (x in seen or seen.add(x))]\n",
    "\n",
    "# Appliquer la fonction à chaque cellule des colonnes 'primaryName_x' et 'primaryName_y'\n",
    "df_merged_7['primaryName_x'] = df_merged_7['primaryName_x'].apply(lambda x: ', '.join(remove_duplicates_keep_order(x.split(', '))))\n",
    "df_merged_7['primaryName_y'] = df_merged_7['primaryName_y'].apply(lambda x: ', '.join(remove_duplicates_keep_order(x.split(', '))))"
   ]
  },
  {
   "cell_type": "code",
   "execution_count": 26,
   "metadata": {},
   "outputs": [
    {
     "data": {
      "text/html": [
       "<div>\n",
       "<style scoped>\n",
       "    .dataframe tbody tr th:only-of-type {\n",
       "        vertical-align: middle;\n",
       "    }\n",
       "\n",
       "    .dataframe tbody tr th {\n",
       "        vertical-align: top;\n",
       "    }\n",
       "\n",
       "    .dataframe thead th {\n",
       "        text-align: right;\n",
       "    }\n",
       "</style>\n",
       "<table border=\"1\" class=\"dataframe\">\n",
       "  <thead>\n",
       "    <tr style=\"text-align: right;\">\n",
       "      <th></th>\n",
       "      <th>tconst</th>\n",
       "      <th>startYear</th>\n",
       "      <th>genres</th>\n",
       "      <th>title</th>\n",
       "      <th>averageRating</th>\n",
       "      <th>numVotes</th>\n",
       "      <th>original_language</th>\n",
       "      <th>overview</th>\n",
       "      <th>poster_path</th>\n",
       "      <th>primaryName_x</th>\n",
       "      <th>primaryName_y</th>\n",
       "    </tr>\n",
       "  </thead>\n",
       "  <tbody>\n",
       "    <tr>\n",
       "      <th>0</th>\n",
       "      <td>tt0035423</td>\n",
       "      <td>2001</td>\n",
       "      <td>Comedy,Fantasy,Romance</td>\n",
       "      <td>Kate et Léopold</td>\n",
       "      <td>6.4</td>\n",
       "      <td>89260</td>\n",
       "      <td>en</td>\n",
       "      <td>When her scientist ex-boyfriend discovers a po...</td>\n",
       "      <td>/mUvikzKJJSg9khrVdxK8kg3TMHA.jpg</td>\n",
       "      <td>Meg Ryan, Hugh Jackman, Liev Schreiber, Brecki...</td>\n",
       "      <td>James Mangold</td>\n",
       "    </tr>\n",
       "    <tr>\n",
       "      <th>1</th>\n",
       "      <td>tt0064177</td>\n",
       "      <td>1970</td>\n",
       "      <td>Sci-Fi,Thriller</td>\n",
       "      <td>Le cerveau d'acier</td>\n",
       "      <td>7.1</td>\n",
       "      <td>10251</td>\n",
       "      <td>en</td>\n",
       "      <td>Forbin is the designer of an incredibly sophis...</td>\n",
       "      <td>/kmVDlTzERxSvBrqtQurjKf1zEy1.jpg</td>\n",
       "      <td>Eric Braeden, Susan Clark, Gordon Pinsent, Wil...</td>\n",
       "      <td>Joseph Sargent</td>\n",
       "    </tr>\n",
       "    <tr>\n",
       "      <th>2</th>\n",
       "      <td>tt0065134</td>\n",
       "      <td>1970</td>\n",
       "      <td>Adventure,Drama,Romance</td>\n",
       "      <td>Sierra torride</td>\n",
       "      <td>7.0</td>\n",
       "      <td>30734</td>\n",
       "      <td>en</td>\n",
       "      <td>When a wandering mercenary named Hogan rescues...</td>\n",
       "      <td>/2G9eM8UAM57TanLBhuPmz3jaNZG.jpg</td>\n",
       "      <td>Clint Eastwood, Shirley MacLaine, Manolo Fábre...</td>\n",
       "      <td>Don Siegel</td>\n",
       "    </tr>\n",
       "    <tr>\n",
       "      <th>3</th>\n",
       "      <td>tt0065143</td>\n",
       "      <td>1970</td>\n",
       "      <td>Horror,Mystery,Thriller</td>\n",
       "      <td>L'oiseau au plumage de cristal</td>\n",
       "      <td>7.1</td>\n",
       "      <td>24224</td>\n",
       "      <td>it</td>\n",
       "      <td>An American writer living in Rome witnesses an...</td>\n",
       "      <td>/dpALRkwodEIT7TGX9SqTgwVNn0i.jpg</td>\n",
       "      <td>Tony Musante, Suzy Kendall, Enrico Maria Saler...</td>\n",
       "      <td>Dario Argento</td>\n",
       "    </tr>\n",
       "    <tr>\n",
       "      <th>4</th>\n",
       "      <td>tt0065377</td>\n",
       "      <td>1970</td>\n",
       "      <td>Action,Drama,Thriller</td>\n",
       "      <td>Airport</td>\n",
       "      <td>6.6</td>\n",
       "      <td>21932</td>\n",
       "      <td>en</td>\n",
       "      <td>Melodrama about a bomber on board an airplane,...</td>\n",
       "      <td>/6iOKluJfyiU1SLZbGYrY7Z0i6k0.jpg</td>\n",
       "      <td>Burt Lancaster, Dean Martin, George Kennedy, J...</td>\n",
       "      <td>George Seaton</td>\n",
       "    </tr>\n",
       "  </tbody>\n",
       "</table>\n",
       "</div>"
      ],
      "text/plain": [
       "      tconst  startYear                   genres  \\\n",
       "0  tt0035423       2001   Comedy,Fantasy,Romance   \n",
       "1  tt0064177       1970          Sci-Fi,Thriller   \n",
       "2  tt0065134       1970  Adventure,Drama,Romance   \n",
       "3  tt0065143       1970  Horror,Mystery,Thriller   \n",
       "4  tt0065377       1970    Action,Drama,Thriller   \n",
       "\n",
       "                            title  averageRating  numVotes original_language  \\\n",
       "0                 Kate et Léopold            6.4     89260                en   \n",
       "1              Le cerveau d'acier            7.1     10251                en   \n",
       "2                  Sierra torride            7.0     30734                en   \n",
       "3  L'oiseau au plumage de cristal            7.1     24224                it   \n",
       "4                         Airport            6.6     21932                en   \n",
       "\n",
       "                                            overview  \\\n",
       "0  When her scientist ex-boyfriend discovers a po...   \n",
       "1  Forbin is the designer of an incredibly sophis...   \n",
       "2  When a wandering mercenary named Hogan rescues...   \n",
       "3  An American writer living in Rome witnesses an...   \n",
       "4  Melodrama about a bomber on board an airplane,...   \n",
       "\n",
       "                        poster_path  \\\n",
       "0  /mUvikzKJJSg9khrVdxK8kg3TMHA.jpg   \n",
       "1  /kmVDlTzERxSvBrqtQurjKf1zEy1.jpg   \n",
       "2  /2G9eM8UAM57TanLBhuPmz3jaNZG.jpg   \n",
       "3  /dpALRkwodEIT7TGX9SqTgwVNn0i.jpg   \n",
       "4  /6iOKluJfyiU1SLZbGYrY7Z0i6k0.jpg   \n",
       "\n",
       "                                       primaryName_x   primaryName_y  \n",
       "0  Meg Ryan, Hugh Jackman, Liev Schreiber, Brecki...   James Mangold  \n",
       "1  Eric Braeden, Susan Clark, Gordon Pinsent, Wil...  Joseph Sargent  \n",
       "2  Clint Eastwood, Shirley MacLaine, Manolo Fábre...      Don Siegel  \n",
       "3  Tony Musante, Suzy Kendall, Enrico Maria Saler...   Dario Argento  \n",
       "4  Burt Lancaster, Dean Martin, George Kennedy, J...   George Seaton  "
      ]
     },
     "execution_count": 26,
     "metadata": {},
     "output_type": "execute_result"
    }
   ],
   "source": [
    "#Analyser le dataframe \n",
    "df_merged_7.head()"
   ]
  },
  {
   "cell_type": "code",
   "execution_count": 28,
   "metadata": {},
   "outputs": [
    {
     "data": {
      "text/plain": [
       "(10244, 11)"
      ]
     },
     "execution_count": 28,
     "metadata": {},
     "output_type": "execute_result"
    }
   ],
   "source": [
    "df_merged_7.shape"
   ]
  },
  {
   "cell_type": "code",
   "execution_count": 27,
   "metadata": {},
   "outputs": [
    {
     "name": "stdout",
     "output_type": "stream",
     "text": [
      "<class 'pandas.core.frame.DataFrame'>\n",
      "RangeIndex: 10244 entries, 0 to 10243\n",
      "Data columns (total 11 columns):\n",
      " #   Column             Non-Null Count  Dtype  \n",
      "---  ------             --------------  -----  \n",
      " 0   tconst             10244 non-null  object \n",
      " 1   startYear          10244 non-null  int64  \n",
      " 2   genres             10244 non-null  object \n",
      " 3   title              10244 non-null  object \n",
      " 4   averageRating      10244 non-null  float64\n",
      " 5   numVotes           10244 non-null  int64  \n",
      " 6   original_language  10244 non-null  object \n",
      " 7   overview           10244 non-null  object \n",
      " 8   poster_path        10244 non-null  object \n",
      " 9   primaryName_x      10244 non-null  object \n",
      " 10  primaryName_y      10244 non-null  object \n",
      "dtypes: float64(1), int64(2), object(8)\n",
      "memory usage: 880.5+ KB\n"
     ]
    }
   ],
   "source": [
    "df_merged_7.info()"
   ]
  },
  {
   "cell_type": "code",
   "execution_count": 28,
   "metadata": {},
   "outputs": [
    {
     "data": {
      "text/plain": [
       "tconst               0\n",
       "startYear            0\n",
       "genres               0\n",
       "title                0\n",
       "averageRating        0\n",
       "numVotes             0\n",
       "original_language    0\n",
       "overview             0\n",
       "poster_path          0\n",
       "primaryName_x        0\n",
       "primaryName_y        0\n",
       "dtype: int64"
      ]
     },
     "execution_count": 28,
     "metadata": {},
     "output_type": "execute_result"
    }
   ],
   "source": [
    "df_merged_7.isna().sum()"
   ]
  },
  {
   "cell_type": "code",
   "execution_count": 29,
   "metadata": {},
   "outputs": [
    {
     "data": {
      "text/html": [
       "<div>\n",
       "<style scoped>\n",
       "    .dataframe tbody tr th:only-of-type {\n",
       "        vertical-align: middle;\n",
       "    }\n",
       "\n",
       "    .dataframe tbody tr th {\n",
       "        vertical-align: top;\n",
       "    }\n",
       "\n",
       "    .dataframe thead th {\n",
       "        text-align: right;\n",
       "    }\n",
       "</style>\n",
       "<table border=\"1\" class=\"dataframe\">\n",
       "  <thead>\n",
       "    <tr style=\"text-align: right;\">\n",
       "      <th></th>\n",
       "      <th>tconst</th>\n",
       "      <th>title</th>\n",
       "      <th>startYear</th>\n",
       "      <th>original_language</th>\n",
       "      <th>primaryName_y</th>\n",
       "      <th>primaryName_x</th>\n",
       "      <th>averageRating</th>\n",
       "      <th>numVotes</th>\n",
       "      <th>genres</th>\n",
       "      <th>overview</th>\n",
       "      <th>poster_path</th>\n",
       "    </tr>\n",
       "  </thead>\n",
       "  <tbody>\n",
       "    <tr>\n",
       "      <th>0</th>\n",
       "      <td>tt0035423</td>\n",
       "      <td>Kate et Léopold</td>\n",
       "      <td>2001</td>\n",
       "      <td>en</td>\n",
       "      <td>James Mangold</td>\n",
       "      <td>Meg Ryan, Hugh Jackman, Liev Schreiber, Brecki...</td>\n",
       "      <td>6.4</td>\n",
       "      <td>89260</td>\n",
       "      <td>Comedy,Fantasy,Romance</td>\n",
       "      <td>When her scientist ex-boyfriend discovers a po...</td>\n",
       "      <td>/mUvikzKJJSg9khrVdxK8kg3TMHA.jpg</td>\n",
       "    </tr>\n",
       "    <tr>\n",
       "      <th>1</th>\n",
       "      <td>tt0064177</td>\n",
       "      <td>Le cerveau d'acier</td>\n",
       "      <td>1970</td>\n",
       "      <td>en</td>\n",
       "      <td>Joseph Sargent</td>\n",
       "      <td>Eric Braeden, Susan Clark, Gordon Pinsent, Wil...</td>\n",
       "      <td>7.1</td>\n",
       "      <td>10251</td>\n",
       "      <td>Sci-Fi,Thriller</td>\n",
       "      <td>Forbin is the designer of an incredibly sophis...</td>\n",
       "      <td>/kmVDlTzERxSvBrqtQurjKf1zEy1.jpg</td>\n",
       "    </tr>\n",
       "    <tr>\n",
       "      <th>2</th>\n",
       "      <td>tt0065134</td>\n",
       "      <td>Sierra torride</td>\n",
       "      <td>1970</td>\n",
       "      <td>en</td>\n",
       "      <td>Don Siegel</td>\n",
       "      <td>Clint Eastwood, Shirley MacLaine, Manolo Fábre...</td>\n",
       "      <td>7.0</td>\n",
       "      <td>30734</td>\n",
       "      <td>Adventure,Drama,Romance</td>\n",
       "      <td>When a wandering mercenary named Hogan rescues...</td>\n",
       "      <td>/2G9eM8UAM57TanLBhuPmz3jaNZG.jpg</td>\n",
       "    </tr>\n",
       "    <tr>\n",
       "      <th>3</th>\n",
       "      <td>tt0065143</td>\n",
       "      <td>L'oiseau au plumage de cristal</td>\n",
       "      <td>1970</td>\n",
       "      <td>it</td>\n",
       "      <td>Dario Argento</td>\n",
       "      <td>Tony Musante, Suzy Kendall, Enrico Maria Saler...</td>\n",
       "      <td>7.1</td>\n",
       "      <td>24224</td>\n",
       "      <td>Horror,Mystery,Thriller</td>\n",
       "      <td>An American writer living in Rome witnesses an...</td>\n",
       "      <td>/dpALRkwodEIT7TGX9SqTgwVNn0i.jpg</td>\n",
       "    </tr>\n",
       "    <tr>\n",
       "      <th>4</th>\n",
       "      <td>tt0065377</td>\n",
       "      <td>Airport</td>\n",
       "      <td>1970</td>\n",
       "      <td>en</td>\n",
       "      <td>George Seaton</td>\n",
       "      <td>Burt Lancaster, Dean Martin, George Kennedy, J...</td>\n",
       "      <td>6.6</td>\n",
       "      <td>21932</td>\n",
       "      <td>Action,Drama,Thriller</td>\n",
       "      <td>Melodrama about a bomber on board an airplane,...</td>\n",
       "      <td>/6iOKluJfyiU1SLZbGYrY7Z0i6k0.jpg</td>\n",
       "    </tr>\n",
       "  </tbody>\n",
       "</table>\n",
       "</div>"
      ],
      "text/plain": [
       "      tconst                           title  startYear original_language  \\\n",
       "0  tt0035423                 Kate et Léopold       2001                en   \n",
       "1  tt0064177              Le cerveau d'acier       1970                en   \n",
       "2  tt0065134                  Sierra torride       1970                en   \n",
       "3  tt0065143  L'oiseau au plumage de cristal       1970                it   \n",
       "4  tt0065377                         Airport       1970                en   \n",
       "\n",
       "    primaryName_y                                      primaryName_x  \\\n",
       "0   James Mangold  Meg Ryan, Hugh Jackman, Liev Schreiber, Brecki...   \n",
       "1  Joseph Sargent  Eric Braeden, Susan Clark, Gordon Pinsent, Wil...   \n",
       "2      Don Siegel  Clint Eastwood, Shirley MacLaine, Manolo Fábre...   \n",
       "3   Dario Argento  Tony Musante, Suzy Kendall, Enrico Maria Saler...   \n",
       "4   George Seaton  Burt Lancaster, Dean Martin, George Kennedy, J...   \n",
       "\n",
       "   averageRating  numVotes                   genres  \\\n",
       "0            6.4     89260   Comedy,Fantasy,Romance   \n",
       "1            7.1     10251          Sci-Fi,Thriller   \n",
       "2            7.0     30734  Adventure,Drama,Romance   \n",
       "3            7.1     24224  Horror,Mystery,Thriller   \n",
       "4            6.6     21932    Action,Drama,Thriller   \n",
       "\n",
       "                                            overview  \\\n",
       "0  When her scientist ex-boyfriend discovers a po...   \n",
       "1  Forbin is the designer of an incredibly sophis...   \n",
       "2  When a wandering mercenary named Hogan rescues...   \n",
       "3  An American writer living in Rome witnesses an...   \n",
       "4  Melodrama about a bomber on board an airplane,...   \n",
       "\n",
       "                        poster_path  \n",
       "0  /mUvikzKJJSg9khrVdxK8kg3TMHA.jpg  \n",
       "1  /kmVDlTzERxSvBrqtQurjKf1zEy1.jpg  \n",
       "2  /2G9eM8UAM57TanLBhuPmz3jaNZG.jpg  \n",
       "3  /dpALRkwodEIT7TGX9SqTgwVNn0i.jpg  \n",
       "4  /6iOKluJfyiU1SLZbGYrY7Z0i6k0.jpg  "
      ]
     },
     "execution_count": 29,
     "metadata": {},
     "output_type": "execute_result"
    }
   ],
   "source": [
    "#Créer dataframe recommandations\n",
    "#Organiser les colonnes\n",
    "df_merged_8 = df_merged_7[['tconst', 'title', 'startYear', 'original_language', 'primaryName_y', 'primaryName_x', 'averageRating', 'numVotes', 'genres', 'overview', 'poster_path']]\n",
    "df_merged_8.head()"
   ]
  },
  {
   "cell_type": "code",
   "execution_count": 30,
   "metadata": {},
   "outputs": [
    {
     "data": {
      "text/html": [
       "<div>\n",
       "<style scoped>\n",
       "    .dataframe tbody tr th:only-of-type {\n",
       "        vertical-align: middle;\n",
       "    }\n",
       "\n",
       "    .dataframe tbody tr th {\n",
       "        vertical-align: top;\n",
       "    }\n",
       "\n",
       "    .dataframe thead th {\n",
       "        text-align: right;\n",
       "    }\n",
       "</style>\n",
       "<table border=\"1\" class=\"dataframe\">\n",
       "  <thead>\n",
       "    <tr style=\"text-align: right;\">\n",
       "      <th></th>\n",
       "      <th>id</th>\n",
       "      <th>titre</th>\n",
       "      <th>annee</th>\n",
       "      <th>langue_originale</th>\n",
       "      <th>realisateurs</th>\n",
       "      <th>acteurs</th>\n",
       "      <th>note</th>\n",
       "      <th>nombre_votants</th>\n",
       "      <th>genres</th>\n",
       "      <th>synopsis</th>\n",
       "      <th>affiche</th>\n",
       "    </tr>\n",
       "  </thead>\n",
       "  <tbody>\n",
       "    <tr>\n",
       "      <th>0</th>\n",
       "      <td>tt0035423</td>\n",
       "      <td>Kate et Léopold</td>\n",
       "      <td>2001</td>\n",
       "      <td>en</td>\n",
       "      <td>James Mangold</td>\n",
       "      <td>Meg Ryan, Hugh Jackman, Liev Schreiber, Brecki...</td>\n",
       "      <td>6.4</td>\n",
       "      <td>89260</td>\n",
       "      <td>Comedy,Fantasy,Romance</td>\n",
       "      <td>When her scientist ex-boyfriend discovers a po...</td>\n",
       "      <td>/mUvikzKJJSg9khrVdxK8kg3TMHA.jpg</td>\n",
       "    </tr>\n",
       "    <tr>\n",
       "      <th>1</th>\n",
       "      <td>tt0064177</td>\n",
       "      <td>Le cerveau d'acier</td>\n",
       "      <td>1970</td>\n",
       "      <td>en</td>\n",
       "      <td>Joseph Sargent</td>\n",
       "      <td>Eric Braeden, Susan Clark, Gordon Pinsent, Wil...</td>\n",
       "      <td>7.1</td>\n",
       "      <td>10251</td>\n",
       "      <td>Sci-Fi,Thriller</td>\n",
       "      <td>Forbin is the designer of an incredibly sophis...</td>\n",
       "      <td>/kmVDlTzERxSvBrqtQurjKf1zEy1.jpg</td>\n",
       "    </tr>\n",
       "    <tr>\n",
       "      <th>2</th>\n",
       "      <td>tt0065134</td>\n",
       "      <td>Sierra torride</td>\n",
       "      <td>1970</td>\n",
       "      <td>en</td>\n",
       "      <td>Don Siegel</td>\n",
       "      <td>Clint Eastwood, Shirley MacLaine, Manolo Fábre...</td>\n",
       "      <td>7.0</td>\n",
       "      <td>30734</td>\n",
       "      <td>Adventure,Drama,Romance</td>\n",
       "      <td>When a wandering mercenary named Hogan rescues...</td>\n",
       "      <td>/2G9eM8UAM57TanLBhuPmz3jaNZG.jpg</td>\n",
       "    </tr>\n",
       "    <tr>\n",
       "      <th>3</th>\n",
       "      <td>tt0065143</td>\n",
       "      <td>L'oiseau au plumage de cristal</td>\n",
       "      <td>1970</td>\n",
       "      <td>it</td>\n",
       "      <td>Dario Argento</td>\n",
       "      <td>Tony Musante, Suzy Kendall, Enrico Maria Saler...</td>\n",
       "      <td>7.1</td>\n",
       "      <td>24224</td>\n",
       "      <td>Horror,Mystery,Thriller</td>\n",
       "      <td>An American writer living in Rome witnesses an...</td>\n",
       "      <td>/dpALRkwodEIT7TGX9SqTgwVNn0i.jpg</td>\n",
       "    </tr>\n",
       "    <tr>\n",
       "      <th>4</th>\n",
       "      <td>tt0065377</td>\n",
       "      <td>Airport</td>\n",
       "      <td>1970</td>\n",
       "      <td>en</td>\n",
       "      <td>George Seaton</td>\n",
       "      <td>Burt Lancaster, Dean Martin, George Kennedy, J...</td>\n",
       "      <td>6.6</td>\n",
       "      <td>21932</td>\n",
       "      <td>Action,Drama,Thriller</td>\n",
       "      <td>Melodrama about a bomber on board an airplane,...</td>\n",
       "      <td>/6iOKluJfyiU1SLZbGYrY7Z0i6k0.jpg</td>\n",
       "    </tr>\n",
       "  </tbody>\n",
       "</table>\n",
       "</div>"
      ],
      "text/plain": [
       "          id                           titre  annee langue_originale  \\\n",
       "0  tt0035423                 Kate et Léopold   2001               en   \n",
       "1  tt0064177              Le cerveau d'acier   1970               en   \n",
       "2  tt0065134                  Sierra torride   1970               en   \n",
       "3  tt0065143  L'oiseau au plumage de cristal   1970               it   \n",
       "4  tt0065377                         Airport   1970               en   \n",
       "\n",
       "     realisateurs                                            acteurs  note  \\\n",
       "0   James Mangold  Meg Ryan, Hugh Jackman, Liev Schreiber, Brecki...   6.4   \n",
       "1  Joseph Sargent  Eric Braeden, Susan Clark, Gordon Pinsent, Wil...   7.1   \n",
       "2      Don Siegel  Clint Eastwood, Shirley MacLaine, Manolo Fábre...   7.0   \n",
       "3   Dario Argento  Tony Musante, Suzy Kendall, Enrico Maria Saler...   7.1   \n",
       "4   George Seaton  Burt Lancaster, Dean Martin, George Kennedy, J...   6.6   \n",
       "\n",
       "   nombre_votants                   genres  \\\n",
       "0           89260   Comedy,Fantasy,Romance   \n",
       "1           10251          Sci-Fi,Thriller   \n",
       "2           30734  Adventure,Drama,Romance   \n",
       "3           24224  Horror,Mystery,Thriller   \n",
       "4           21932    Action,Drama,Thriller   \n",
       "\n",
       "                                            synopsis  \\\n",
       "0  When her scientist ex-boyfriend discovers a po...   \n",
       "1  Forbin is the designer of an incredibly sophis...   \n",
       "2  When a wandering mercenary named Hogan rescues...   \n",
       "3  An American writer living in Rome witnesses an...   \n",
       "4  Melodrama about a bomber on board an airplane,...   \n",
       "\n",
       "                            affiche  \n",
       "0  /mUvikzKJJSg9khrVdxK8kg3TMHA.jpg  \n",
       "1  /kmVDlTzERxSvBrqtQurjKf1zEy1.jpg  \n",
       "2  /2G9eM8UAM57TanLBhuPmz3jaNZG.jpg  \n",
       "3  /dpALRkwodEIT7TGX9SqTgwVNn0i.jpg  \n",
       "4  /6iOKluJfyiU1SLZbGYrY7Z0i6k0.jpg  "
      ]
     },
     "execution_count": 30,
     "metadata": {},
     "output_type": "execute_result"
    }
   ],
   "source": [
    "#Renommer les colonnes\n",
    "df_merge_9 = df_merged_8.rename(columns={'tconst': 'id', \n",
    "                                             'title': 'titre',\n",
    "                                             'startYear' : 'annee',\n",
    "                                             'original_language' : 'langue_originale',\n",
    "                                             'primaryName_y' : 'realisateurs',\n",
    "                                             'primaryName_x' : 'acteurs',\n",
    "                                             'averageRating' : 'note',\n",
    "                                             'numVotes' : 'nombre_votants',\n",
    "                                             'genres' : 'genres', \n",
    "                                             'overview' : 'synopsis',\n",
    "                                             'poster_path' : 'affiche'})\n",
    "df_merge_9.head()"
   ]
  },
  {
   "cell_type": "code",
   "execution_count": 31,
   "metadata": {},
   "outputs": [
    {
     "data": {
      "text/html": [
       "<div>\n",
       "<style scoped>\n",
       "    .dataframe tbody tr th:only-of-type {\n",
       "        vertical-align: middle;\n",
       "    }\n",
       "\n",
       "    .dataframe tbody tr th {\n",
       "        vertical-align: top;\n",
       "    }\n",
       "\n",
       "    .dataframe thead th {\n",
       "        text-align: right;\n",
       "    }\n",
       "</style>\n",
       "<table border=\"1\" class=\"dataframe\">\n",
       "  <thead>\n",
       "    <tr style=\"text-align: right;\">\n",
       "      <th></th>\n",
       "      <th>id</th>\n",
       "      <th>titre</th>\n",
       "      <th>annee</th>\n",
       "      <th>langue_originale</th>\n",
       "      <th>realisateurs</th>\n",
       "      <th>acteurs</th>\n",
       "      <th>note</th>\n",
       "      <th>nombre_votants</th>\n",
       "      <th>genres</th>\n",
       "      <th>synopsis</th>\n",
       "      <th>affiche</th>\n",
       "      <th>affiche\\r</th>\n",
       "    </tr>\n",
       "  </thead>\n",
       "  <tbody>\n",
       "    <tr>\n",
       "      <th>0</th>\n",
       "      <td>tt0035423</td>\n",
       "      <td>Kate et Léopold</td>\n",
       "      <td>2001</td>\n",
       "      <td>en</td>\n",
       "      <td>James Mangold</td>\n",
       "      <td>Meg Ryan, Hugh Jackman, Liev Schreiber, Brecki...</td>\n",
       "      <td>6.4</td>\n",
       "      <td>89260</td>\n",
       "      <td>Comedy,Fantasy,Romance</td>\n",
       "      <td>When her scientist ex-boyfriend discovers a po...</td>\n",
       "      <td>/mUvikzKJJSg9khrVdxK8kg3TMHA.jpg</td>\n",
       "      <td>NaN</td>\n",
       "    </tr>\n",
       "    <tr>\n",
       "      <th>1</th>\n",
       "      <td>tt0064177</td>\n",
       "      <td>Le cerveau d'acier</td>\n",
       "      <td>1970</td>\n",
       "      <td>en</td>\n",
       "      <td>Joseph Sargent</td>\n",
       "      <td>Eric Braeden, Susan Clark, Gordon Pinsent, Wil...</td>\n",
       "      <td>7.1</td>\n",
       "      <td>10251</td>\n",
       "      <td>Sci-Fi,Thriller</td>\n",
       "      <td>Forbin is the designer of an incredibly sophis...</td>\n",
       "      <td>/kmVDlTzERxSvBrqtQurjKf1zEy1.jpg</td>\n",
       "      <td>NaN</td>\n",
       "    </tr>\n",
       "    <tr>\n",
       "      <th>2</th>\n",
       "      <td>tt0065134</td>\n",
       "      <td>Sierra torride</td>\n",
       "      <td>1970</td>\n",
       "      <td>en</td>\n",
       "      <td>Don Siegel</td>\n",
       "      <td>Clint Eastwood, Shirley MacLaine, Manolo Fábre...</td>\n",
       "      <td>7.0</td>\n",
       "      <td>30734</td>\n",
       "      <td>Adventure,Drama,Romance</td>\n",
       "      <td>When a wandering mercenary named Hogan rescues...</td>\n",
       "      <td>/2G9eM8UAM57TanLBhuPmz3jaNZG.jpg</td>\n",
       "      <td>NaN</td>\n",
       "    </tr>\n",
       "    <tr>\n",
       "      <th>3</th>\n",
       "      <td>tt0065143</td>\n",
       "      <td>L'oiseau au plumage de cristal</td>\n",
       "      <td>1970</td>\n",
       "      <td>it</td>\n",
       "      <td>Dario Argento</td>\n",
       "      <td>Tony Musante, Suzy Kendall, Enrico Maria Saler...</td>\n",
       "      <td>7.1</td>\n",
       "      <td>24224</td>\n",
       "      <td>Horror,Mystery,Thriller</td>\n",
       "      <td>An American writer living in Rome witnesses an...</td>\n",
       "      <td>/dpALRkwodEIT7TGX9SqTgwVNn0i.jpg</td>\n",
       "      <td>NaN</td>\n",
       "    </tr>\n",
       "    <tr>\n",
       "      <th>4</th>\n",
       "      <td>tt0065377</td>\n",
       "      <td>Airport</td>\n",
       "      <td>1970</td>\n",
       "      <td>en</td>\n",
       "      <td>George Seaton</td>\n",
       "      <td>Burt Lancaster, Dean Martin, George Kennedy, J...</td>\n",
       "      <td>6.6</td>\n",
       "      <td>21932</td>\n",
       "      <td>Action,Drama,Thriller</td>\n",
       "      <td>Melodrama about a bomber on board an airplane,...</td>\n",
       "      <td>/6iOKluJfyiU1SLZbGYrY7Z0i6k0.jpg</td>\n",
       "      <td>NaN</td>\n",
       "    </tr>\n",
       "  </tbody>\n",
       "</table>\n",
       "</div>"
      ],
      "text/plain": [
       "          id                           titre  annee langue_originale  \\\n",
       "0  tt0035423                 Kate et Léopold   2001               en   \n",
       "1  tt0064177              Le cerveau d'acier   1970               en   \n",
       "2  tt0065134                  Sierra torride   1970               en   \n",
       "3  tt0065143  L'oiseau au plumage de cristal   1970               it   \n",
       "4  tt0065377                         Airport   1970               en   \n",
       "\n",
       "     realisateurs                                            acteurs  note  \\\n",
       "0   James Mangold  Meg Ryan, Hugh Jackman, Liev Schreiber, Brecki...   6.4   \n",
       "1  Joseph Sargent  Eric Braeden, Susan Clark, Gordon Pinsent, Wil...   7.1   \n",
       "2      Don Siegel  Clint Eastwood, Shirley MacLaine, Manolo Fábre...   7.0   \n",
       "3   Dario Argento  Tony Musante, Suzy Kendall, Enrico Maria Saler...   7.1   \n",
       "4   George Seaton  Burt Lancaster, Dean Martin, George Kennedy, J...   6.6   \n",
       "\n",
       "   nombre_votants                   genres  \\\n",
       "0           89260   Comedy,Fantasy,Romance   \n",
       "1           10251          Sci-Fi,Thriller   \n",
       "2           30734  Adventure,Drama,Romance   \n",
       "3           24224  Horror,Mystery,Thriller   \n",
       "4           21932    Action,Drama,Thriller   \n",
       "\n",
       "                                            synopsis  \\\n",
       "0  When her scientist ex-boyfriend discovers a po...   \n",
       "1  Forbin is the designer of an incredibly sophis...   \n",
       "2  When a wandering mercenary named Hogan rescues...   \n",
       "3  An American writer living in Rome witnesses an...   \n",
       "4  Melodrama about a bomber on board an airplane,...   \n",
       "\n",
       "                            affiche affiche\\r  \n",
       "0  /mUvikzKJJSg9khrVdxK8kg3TMHA.jpg       NaN  \n",
       "1  /kmVDlTzERxSvBrqtQurjKf1zEy1.jpg       NaN  \n",
       "2  /2G9eM8UAM57TanLBhuPmz3jaNZG.jpg       NaN  \n",
       "3  /dpALRkwodEIT7TGX9SqTgwVNn0i.jpg       NaN  \n",
       "4  /6iOKluJfyiU1SLZbGYrY7Z0i6k0.jpg       NaN  "
      ]
     },
     "execution_count": 31,
     "metadata": {},
     "output_type": "execute_result"
    }
   ],
   "source": [
    "#Concatenner df_merge_9 et df_films_fr\n",
    "df_recommandations = pd.concat([df_merge_9, df_films_fr])\n",
    "df_recommandations.head()"
   ]
  },
  {
   "cell_type": "code",
   "execution_count": 34,
   "metadata": {},
   "outputs": [
    {
     "data": {
      "text/plain": [
       "(17079, 12)"
      ]
     },
     "execution_count": 34,
     "metadata": {},
     "output_type": "execute_result"
    }
   ],
   "source": [
    "df_recommandations.shape"
   ]
  },
  {
   "cell_type": "code",
   "execution_count": 32,
   "metadata": {},
   "outputs": [
    {
     "name": "stdout",
     "output_type": "stream",
     "text": [
      "<class 'pandas.core.frame.DataFrame'>\n",
      "Index: 17079 entries, 0 to 6834\n",
      "Data columns (total 12 columns):\n",
      " #   Column            Non-Null Count  Dtype  \n",
      "---  ------            --------------  -----  \n",
      " 0   id                17079 non-null  object \n",
      " 1   titre             17079 non-null  object \n",
      " 2   annee             17079 non-null  int64  \n",
      " 3   langue_originale  17079 non-null  object \n",
      " 4   realisateurs      17079 non-null  object \n",
      " 5   acteurs           17079 non-null  object \n",
      " 6   note              17079 non-null  float64\n",
      " 7   nombre_votants    17079 non-null  int64  \n",
      " 8   genres            17079 non-null  object \n",
      " 9   synopsis          17079 non-null  object \n",
      " 10  affiche           10244 non-null  object \n",
      "          6835 non-null   object \n",
      "dtypes: float64(1), int64(2), object(9)\n",
      "memory usage: 1.7+ MB\n"
     ]
    }
   ],
   "source": [
    "df_recommandations.info()"
   ]
  },
  {
   "cell_type": "code",
   "execution_count": 33,
   "metadata": {},
   "outputs": [
    {
     "data": {
      "text/plain": [
       "id                      0\n",
       "titre                   0\n",
       "annee                   0\n",
       "langue_originale        0\n",
       "realisateurs            0\n",
       "acteurs                 0\n",
       "note                    0\n",
       "nombre_votants          0\n",
       "genres                  0\n",
       "synopsis                0\n",
       "affiche              6835\n",
       "affiche\\r           10244\n",
       "dtype: int64"
      ]
     },
     "execution_count": 33,
     "metadata": {},
     "output_type": "execute_result"
    }
   ],
   "source": [
    "df_recommandations.isna().sum()"
   ]
  },
  {
   "cell_type": "code",
   "execution_count": 34,
   "metadata": {},
   "outputs": [
    {
     "name": "stdout",
     "output_type": "stream",
     "text": [
      "             id                           titre  annee langue_originale  \\\n",
      "0     tt0035423                 Kate et Léopold   2001               en   \n",
      "1     tt0064177              Le cerveau d'acier   1970               en   \n",
      "2     tt0065134                  Sierra torride   1970               en   \n",
      "3     tt0065143  L'oiseau au plumage de cristal   1970               it   \n",
      "4     tt0065377                         Airport   1970               en   \n",
      "...         ...                             ...    ...              ...   \n",
      "6830  tt9861288                        Boutchou   2020               fr   \n",
      "6831  tt9866344                   Mon ami Walid   2019               fr   \n",
      "6832  tt9866700        Paranormal Investigation   2018               fr   \n",
      "6833  tt9894450                        Felicità   2020               fr   \n",
      "6834  tt9908390                         Le Lion   2020               fr   \n",
      "\n",
      "                realisateurs  \\\n",
      "0              James Mangold   \n",
      "1             Joseph Sargent   \n",
      "2                 Don Siegel   \n",
      "3              Dario Argento   \n",
      "4              George Seaton   \n",
      "...                      ...   \n",
      "6830  Adrien Piquet-Gauthier   \n",
      "6831         Adib Alkhalidey   \n",
      "6832         Franck Phelizon   \n",
      "6833             Bruno Merle   \n",
      "6834  Ludovic Colbeau-Justin   \n",
      "\n",
      "                                                acteurs   note  \\\n",
      "0     Meg Ryan, Hugh Jackman, Liev Schreiber, Brecki...  6.400   \n",
      "1     Eric Braeden, Susan Clark, Gordon Pinsent, Wil...  7.100   \n",
      "2     Clint Eastwood, Shirley MacLaine, Manolo Fábre...  7.000   \n",
      "3     Tony Musante, Suzy Kendall, Enrico Maria Saler...  7.100   \n",
      "4     Burt Lancaster, Dean Martin, George Kennedy, J...  6.600   \n",
      "...                                                 ...    ...   \n",
      "6830  Gérard Darmon, Pascal N'Zonzi, Lannick Gautry,...  5.200   \n",
      "6831  Adib Alkhalidey, Mehdi Bousaidan, Iani Bédard,...  7.000   \n",
      "6832  Jose Atuncar, Claudine Bertin, Cedric Henquez,...  4.600   \n",
      "6833  Pio Marmaï, Orelsan, Bert Haelvoet, Adama Nian...  7.072   \n",
      "6834  Dany Boon, Philippe Katerine, Samuel Jouy, Ben...  5.328   \n",
      "\n",
      "      nombre_votants                   genres  \\\n",
      "0              89260   Comedy,Fantasy,Romance   \n",
      "1              10251          Sci-Fi,Thriller   \n",
      "2              30734  Adventure,Drama,Romance   \n",
      "3              24224  Horror,Mystery,Thriller   \n",
      "4              21932    Action,Drama,Thriller   \n",
      "...              ...                      ...   \n",
      "6830              37                   Comedy   \n",
      "6831               3             Comedy,Drama   \n",
      "6832              41          Horror,Thriller   \n",
      "6833             104             Comedy,Drama   \n",
      "6834             172                   Comedy   \n",
      "\n",
      "                                               synopsis  \\\n",
      "0     When her scientist ex-boyfriend discovers a po...   \n",
      "1     Forbin is the designer of an incredibly sophis...   \n",
      "2     When a wandering mercenary named Hogan rescues...   \n",
      "3     An American writer living in Rome witnesses an...   \n",
      "4     Melodrama about a bomber on board an airplane,...   \n",
      "...                                                 ...   \n",
      "6830  Paul and Virginie just had a baby boy. Happy t...   \n",
      "6831  Walid works in a grocery store thanks to an in...   \n",
      "6832  A ghost hunter investigates an evil spirit dwe...   \n",
      "6833  Tommy, 11 years old, is on the road again with...   \n",
      "6834  A psychiatric hospital patient pretends to be ...   \n",
      "\n",
      "                               affiche                           affiche\\r  \n",
      "0     /mUvikzKJJSg9khrVdxK8kg3TMHA.jpg                                 NaN  \n",
      "1     /kmVDlTzERxSvBrqtQurjKf1zEy1.jpg                                 NaN  \n",
      "2     /2G9eM8UAM57TanLBhuPmz3jaNZG.jpg                                 NaN  \n",
      "3     /dpALRkwodEIT7TGX9SqTgwVNn0i.jpg                                 NaN  \n",
      "4     /6iOKluJfyiU1SLZbGYrY7Z0i6k0.jpg                                 NaN  \n",
      "...                                ...                                 ...  \n",
      "6830                               NaN  /9rjQmUjdUcBlXLdbVdtArCQsXn0.jpg\\r  \n",
      "6831                               NaN  /7mscObqLtzeSWtRwhTseJ03gGlc.jpg\\r  \n",
      "6832                               NaN  /zwUgvpWP6Xu3EggeBOLq6wbCeYh.jpg\\r  \n",
      "6833                               NaN  /yhAiRXQUkMRnalRZFr1jiRCohjM.jpg\\r  \n",
      "6834                               NaN  /zfLuACsPcwH6aonTKukn96d1qpp.jpg\\r  \n",
      "\n",
      "[16794 rows x 12 columns]\n"
     ]
    }
   ],
   "source": [
    "# enlever les doubles\n",
    "df_recommandations_nondouble = df_recommandations.drop_duplicates(subset='id', keep='first')\n",
    "print(df_recommandations_nondouble)"
   ]
  },
  {
   "cell_type": "code",
   "execution_count": 35,
   "metadata": {},
   "outputs": [],
   "source": [
    "#Exporter dataframe recommandations en csv\n",
    "df_recommandations_nondouble.to_csv(\"data_recommandations.csv\", sep = \"\\t\", encoding = \"utf-8\", index = False)"
   ]
  }
 ],
 "metadata": {
  "kernelspec": {
   "display_name": "Python 3",
   "language": "python",
   "name": "python3"
  },
  "language_info": {
   "codemirror_mode": {
    "name": "ipython",
    "version": 3
   },
   "file_extension": ".py",
   "mimetype": "text/x-python",
   "name": "python",
   "nbconvert_exporter": "python",
   "pygments_lexer": "ipython3",
   "version": "3.12.3"
  }
 },
 "nbformat": 4,
 "nbformat_minor": 2
}
